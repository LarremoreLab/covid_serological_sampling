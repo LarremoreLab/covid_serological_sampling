{
 "cells": [
  {
   "cell_type": "markdown",
   "metadata": {},
   "source": [
    "# Imports"
   ]
  },
  {
   "cell_type": "code",
   "execution_count": 1,
   "metadata": {},
   "outputs": [],
   "source": [
    "import numpy as np\n",
    "from scipy import special\n",
    "from scipy import stats\n",
    "import scipy\n",
    "from scipy.ndimage.filters import gaussian_filter1d\n",
    "\n",
    "# Manuscript code\n",
    "from seroprevalence import *\n",
    "\n",
    "# Figures\n",
    "import matplotlib.pyplot as plt\n",
    "from matplotlib.lines import Line2D\n",
    "from util import *"
   ]
  },
  {
   "cell_type": "markdown",
   "metadata": {},
   "source": [
    "# Prevalence Inference (one population)"
   ]
  },
  {
   "cell_type": "markdown",
   "metadata": {},
   "source": [
    "We have provided a calculator online, but to do the same calculations in a notebook so that they can be used in analysis, example code is given here."
   ]
  },
  {
   "cell_type": "markdown",
   "metadata": {},
   "source": [
    "## Serological Test Kit Parameters"
   ]
  },
  {
   "cell_type": "markdown",
   "metadata": {},
   "source": [
    "Adjust as needed. We start with [sensingself.me/covid.php](sensingself.me/covid.php) IgG parameters of sensitivity 0.93 and specificity 0.975.  "
   ]
  },
  {
   "cell_type": "code",
   "execution_count": 2,
   "metadata": {},
   "outputs": [],
   "source": [
    "sensitivity = 0.93\n",
    "specificity = 0.975\n",
    "# for convenience, swap to false positive fp and false negative fn.\n",
    "fp = 1-specificity\n",
    "fn = 1-sensitivity"
   ]
  },
  {
   "cell_type": "markdown",
   "metadata": {},
   "source": [
    "# Input Data"
   ]
  },
  {
   "cell_type": "code",
   "execution_count": 13,
   "metadata": {},
   "outputs": [],
   "source": [
    "# Here's where we can put the outcomes of a serological survey\n",
    "pos = 321\n",
    "neg = 1234"
   ]
  },
  {
   "cell_type": "markdown",
   "metadata": {},
   "source": [
    "# Perform inference: draw from seroprevalence posterior"
   ]
  },
  {
   "cell_type": "code",
   "execution_count": 14,
   "metadata": {},
   "outputs": [],
   "source": [
    "# Number of Monte Carlo Samples\n",
    "n_mc_samples = 10000\n",
    "seroprevalence_samples = sample_post_r_log(pos,neg,fp,fn,size=n_mc_samples)"
   ]
  },
  {
   "cell_type": "markdown",
   "metadata": {},
   "source": [
    "# Compute credible interval"
   ]
  },
  {
   "cell_type": "code",
   "execution_count": 15,
   "metadata": {},
   "outputs": [
    {
     "name": "stdout",
     "output_type": "stream",
     "text": [
      "The 90% CI is:\t[0.1823,0.2200]\n"
     ]
    }
   ],
   "source": [
    "# Let's get the 90% CI.  You could swap to a 95% or other CI here.\n",
    "CI_width = 90\n",
    "CI = np.percentile(seroprevalence_samples,[(100-CI_width)/2,100-(100-CI_width)/2])\n",
    "print('The {}% CI is:\\t[{:.4f},{:.4f}]'.format(CI_width,CI[0],CI[1]))"
   ]
  },
  {
   "cell_type": "markdown",
   "metadata": {},
   "source": [
    "# Compute posterior mean"
   ]
  },
  {
   "cell_type": "code",
   "execution_count": 16,
   "metadata": {},
   "outputs": [
    {
     "name": "stdout",
     "output_type": "stream",
     "text": [
      "The posterior mean is:\t0.2009\n"
     ]
    }
   ],
   "source": [
    "post_mean = seroprevalence_samples.mean()\n",
    "print('The posterior mean is:\\t{:.4f}'.format(post_mean))"
   ]
  },
  {
   "cell_type": "markdown",
   "metadata": {},
   "source": [
    "# Plot Results"
   ]
  },
  {
   "cell_type": "code",
   "execution_count": 17,
   "metadata": {},
   "outputs": [
    {
     "data": {
      "image/png": "[encoded data removed]",
      "text/plain": [
       "<Figure size 432x216 with 1 Axes>"
      ]
     },
     "metadata": {
      "needs_background": "light"
     },
     "output_type": "display_data"
    }
   ],
   "source": [
    "# Important stuff first: colors\n",
    "dark_grey = [.3,.3,.3]\n",
    "colors = ['dodgerblue']\n",
    "bin_width=0.6\n",
    "lw=2\n",
    "alph = 0.12\n",
    "\n",
    "# Set up some axes\n",
    "fig, ax = plt.subplots(nrows=1, ncols=1, \n",
    "                        figsize=(6,3),)\n",
    "\n",
    "#1. Plot seroprevalence posterior\n",
    "counts, bins = np.histogram(seroprevalence_samples,\n",
    "                            bins=100,\n",
    "                            density=True,)\n",
    "midpoints = (bins[:-1]+bins[1:])/2\n",
    "smooth_counts = gaussian_filter1d(counts, 2)\n",
    "ax.plot(midpoints,smooth_counts,\n",
    "        color=colors[0],\n",
    "       lw=lw,\n",
    "       label='n={}'.format(n))\n",
    "yl = ax.get_ylim()\n",
    "ax.plot([CI[0]]*2,yl,\n",
    "       color=dark_grey,\n",
    "       linestyle='--')\n",
    "ax.plot([CI[1]]*2,yl,\n",
    "       color=dark_grey,\n",
    "       linestyle='--')\n",
    "ax.plot([post_mean]*2,yl,\n",
    "       linestyle=':',\n",
    "       color=dark_grey)\n",
    "ax.set_xlabel('seroprevalence')\n",
    "ax.set_ylabel('probability density')\n",
    "ax.set_yticklabels([])\n",
    "ax.set_ylim(bottom=0)\n",
    "\n",
    "finalize(ax, ignoreLegend=True)\n",
    "plt.tight_layout()"
   ]
  },
  {
   "cell_type": "code",
   "execution_count": null,
   "metadata": {},
   "outputs": [],
   "source": []
  }
 ],
 "metadata": {
  "kernelspec": {
   "display_name": "Python 3",
   "language": "python",
   "name": "python3"
  },
  "language_info": {
   "codemirror_mode": {
    "name": "ipython",
    "version": 3
   },
   "file_extension": ".py",
   "mimetype": "text/x-python",
   "name": "python",
   "nbconvert_exporter": "python",
   "pygments_lexer": "ipython3",
   "version": "3.7.4"
  }
 },
 "nbformat": 4,
 "nbformat_minor": 2
}
