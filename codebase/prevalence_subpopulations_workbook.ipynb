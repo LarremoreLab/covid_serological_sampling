{
 "cells": [
  {
   "cell_type": "markdown",
   "metadata": {},
   "source": [
    "# Imports"
   ]
  },
  {
   "cell_type": "code",
   "execution_count": 1,
   "metadata": {},
   "outputs": [],
   "source": [
    "import numpy as np\n",
    "from scipy import special\n",
    "from scipy import stats\n",
    "import scipy\n",
    "from scipy.ndimage.filters import gaussian_filter1d\n",
    "\n",
    "# Manuscript code\n",
    "from seroprevalence import *\n",
    "\n",
    "# Figures\n",
    "import matplotlib.pyplot as plt\n",
    "from matplotlib.lines import Line2D\n",
    "from util import *"
   ]
  },
  {
   "cell_type": "markdown",
   "metadata": {},
   "source": [
    "# Prevalence Inference (subpopulations)"
   ]
  },
  {
   "cell_type": "markdown",
   "metadata": {},
   "source": [
    "When there are multiple subpopulations, and we have samples from each subpopulation, we can still infer prevalence from them."
   ]
  },
  {
   "cell_type": "markdown",
   "metadata": {},
   "source": [
    "## Serological Test Kit Parameters"
   ]
  },
  {
   "cell_type": "markdown",
   "metadata": {},
   "source": [
    "Adjust as needed. We start with [sensingself.me/covid.php](sensingself.me/covid.php) IgG parameters of sensitivity 0.93 and specificity 0.975.  "
   ]
  },
  {
   "cell_type": "code",
   "execution_count": 2,
   "metadata": {},
   "outputs": [],
   "source": [
    "sensitivity = 0.93\n",
    "specificity = 0.975\n",
    "# for convenience, swap to false positive fp and false negative fn.\n",
    "fp = 1-specificity\n",
    "fn = 1-sensitivity"
   ]
  },
  {
   "cell_type": "markdown",
   "metadata": {},
   "source": [
    "# Input Data"
   ]
  },
  {
   "cell_type": "code",
   "execution_count": 20,
   "metadata": {},
   "outputs": [],
   "source": [
    "# Here's where we can put the outcomes of a serological survey\n",
    "# Note that we are going to make one of the bins totally empty!\n",
    "\n",
    "# First, list the positive tests\n",
    "posi = np.array([321, 123, 100, 10])\n",
    "# Then, list the negative tests\n",
    "negi = np.array([1234, 500, 375, 30])\n",
    "\n",
    "# totals\n",
    "ni = posi+negi"
   ]
  },
  {
   "cell_type": "markdown",
   "metadata": {},
   "source": [
    "# Perform inference: draw from seroprevalence posterior"
   ]
  },
  {
   "cell_type": "markdown",
   "metadata": {},
   "source": [
    "First, let's bring in the R code"
   ]
  },
  {
   "cell_type": "code",
   "execution_count": 21,
   "metadata": {},
   "outputs": [],
   "source": [
    "import rpy2.robjects as ro\n",
    "ro.r(\"source('seroprevalence.R')\")\n",
    "sprmhR = ro.globalenv['sample_posterior_r_mcmc_hyperR']"
   ]
  },
  {
   "cell_type": "markdown",
   "metadata": {},
   "source": [
    "MCMC paramters"
   ]
  },
  {
   "cell_type": "code",
   "execution_count": 22,
   "metadata": {},
   "outputs": [],
   "source": [
    "n_mcmc_samples = 10000\n",
    "gamma0 = 150 "
   ]
  },
  {
   "cell_type": "markdown",
   "metadata": {},
   "source": [
    "Sample!"
   ]
  },
  {
   "cell_type": "code",
   "execution_count": 23,
   "metadata": {},
   "outputs": [],
   "source": [
    "# Note that we wrap the whole thing in the np.array() constructor\n",
    "# This converts from R output into something we can bring back into the kitchen and cook with.\n",
    "seroprevalence_samples = np.array(\n",
    "    sprmhR(samps=n_mcmc_samples,\n",
    "           posi=ro.vectors.FloatVector(posi.astype(float)),\n",
    "           ni=ro.vectors.FloatVector(ni.astype(float)),\n",
    "           se=sensitivity,\n",
    "           sp=specificity,\n",
    "           gam0=gamma0))\n",
    "# For M subpopulations, the array that we just got back has M+2 columns. \n",
    "# Column 0 are posterior samples of gamma, the variance of the prior.\n",
    "# Column 1 are posterior samples of r, the mean of the prior. \n",
    "# Columns 2-M are the posterior samples of the subpopulations.\n",
    "subpop_prevs = seroprevalence_samples[:,2:]"
   ]
  },
  {
   "cell_type": "markdown",
   "metadata": {},
   "source": [
    "# Plot Raw Serology Data"
   ]
  },
  {
   "cell_type": "code",
   "execution_count": 26,
   "metadata": {},
   "outputs": [
    {
     "data": {
      "image/png": "[encoded data removed]",
      "text/plain": [
       "<Figure size 432x216 with 1 Axes>"
      ]
     },
     "metadata": {
      "needs_background": "light"
     },
     "output_type": "display_data"
    }
   ],
   "source": [
    "# Set up some axes\n",
    "fig, ax = plt.subplots(nrows=1, ncols=1, \n",
    "                        figsize=(6,3),)\n",
    "\n",
    "#1. Quick bar chart of the raw results\n",
    "n_subpops = len(ni)\n",
    "for i in range(n_subpops):\n",
    "    ax.bar(i,posi[i],\n",
    "           width=0.8,\n",
    "  label='seropositive')\n",
    "ax.bar(np.arange(n_subpops),ni-posi,\n",
    "   bottom = posi,\n",
    "  width=0.8,\n",
    "   facecolor='dimgrey',)\n",
    "ax.set_xlabel('subpopulation')\n",
    "ax.set_xticks(np.arange(n_subpops))\n",
    "ax.set_xticklabels(np.arange(1,n_subpops+1))\n",
    "\n",
    "\n",
    "finalize(ax, ignoreLegend=True)\n",
    "plt.tight_layout()"
   ]
  },
  {
   "cell_type": "markdown",
   "metadata": {},
   "source": [
    "# Plot Results"
   ]
  },
  {
   "cell_type": "code",
   "execution_count": 27,
   "metadata": {},
   "outputs": [
    {
     "data": {
      "image/png": "[encoded data removed]",
      "text/plain": [
       "<Figure size 432x216 with 1 Axes>"
      ]
     },
     "metadata": {
      "needs_background": "light"
     },
     "output_type": "display_data"
    }
   ],
   "source": [
    "# Important stuff first: colors\n",
    "dark_grey = [.3,.3,.3]\n",
    "bin_width=0.6\n",
    "lw=2\n",
    "alph = 0.12\n",
    "\n",
    "# Set up some axes\n",
    "fig, ax = plt.subplots(nrows=1, ncols=1, \n",
    "                        figsize=(6,3),)\n",
    "\n",
    "#1. Plot seroprevalence posteriors\n",
    "n_subpops = len(ni)\n",
    "for i in range(n_subpops):\n",
    "    counts, bins = np.histogram(subpop_prevs[:,i],\n",
    "                                bins=100,\n",
    "                                density=True,)\n",
    "    midpoints = (bins[:-1]+bins[1:])/2\n",
    "    smooth_counts = gaussian_filter1d(counts, 2)\n",
    "    ax.plot(midpoints,smooth_counts,\n",
    "       lw=lw,\n",
    "       label='subpopulation {}'.format(i+1))\n",
    "    \n",
    "ax.set_xlabel('seroprevalence')\n",
    "ax.set_ylabel('probability density')\n",
    "ax.set_yticklabels([])\n",
    "ax.set_ylim(bottom=0)\n",
    "ax.legend()\n",
    "\n",
    "finalize(ax, ignoreLegend=True)\n",
    "plt.tight_layout()"
   ]
  },
  {
   "cell_type": "markdown",
   "metadata": {},
   "source": [
    "Finally, notice that the curve corresponding to subpopulation 4 has huge uncertainty, but has a similar mean to the other supopulations.  This is the effect of the Bayesian hierarchical model. Even with no data in that bin, the model assumes that its mean is unlikely to be too far from other bins.  USE WITH CAUTION!  This behavior is a feature, as it allows all the bins to learn from each other, while also allowing them to show their true heterogeneity.  On the other hand, if the unsampled bins are truly different from the sampled bins, those bins will be estimated inaccurately. \n",
    "\n",
    "Why do it at all? In the case that one has a convenience sample that has little or no coverage in a certain bin, and one wishes to parameterize a model, for instance, this approach makes it easy. "
   ]
  },
  {
   "cell_type": "code",
   "execution_count": null,
   "metadata": {},
   "outputs": [],
   "source": []
  }
 ],
 "metadata": {
  "kernelspec": {
   "display_name": "Python 3",
   "language": "python",
   "name": "python3"
  },
  "language_info": {
   "codemirror_mode": {
    "name": "ipython",
    "version": 3
   },
   "file_extension": ".py",
   "mimetype": "text/x-python",
   "name": "python",
   "nbconvert_exporter": "python",
   "pygments_lexer": "ipython3",
   "version": "3.7.4"
  }
 },
 "nbformat": 4,
 "nbformat_minor": 2
}
