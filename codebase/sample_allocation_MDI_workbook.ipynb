{
 "cells": [
  {
   "cell_type": "markdown",
   "metadata": {},
   "source": [
    "# Imports"
   ]
  },
  {
   "cell_type": "code",
   "execution_count": 1,
   "metadata": {},
   "outputs": [],
   "source": [
    "import numpy as np\n",
    "from scipy import special\n",
    "from scipy import stats\n",
    "import scipy\n",
    "from scipy.ndimage.filters import gaussian_filter1d\n",
    "from numpy.linalg import eig\n",
    "from numpy.linalg import multi_dot\n",
    "\n",
    "# Manuscript code\n",
    "from seroprevalence import *\n",
    "\n",
    "# Figures\n",
    "import matplotlib.pyplot as plt\n",
    "from matplotlib.lines import Line2D\n",
    "from util import *"
   ]
  },
  {
   "cell_type": "markdown",
   "metadata": {},
   "source": [
    "# MDI Recommendations\n",
    "\n",
    "MDI stands for *Model & Demographic Informed*. It is a **variance reduction strategy**. In plain language, its goal is to help allocate more samples to those subpopulations whose accurate measurement will be most beneficial. \n",
    "\n",
    "A quick example illustrates this point: suppose that you are trying to estimate the overall prevalence at a college, which consists of students, teachers. Suppose that there are 9 students for every 1 teacher. In this case, it would be wise to allocate more samples to the students because they make up 90% of the population; splitting the tests 50%/50% would be inadvisable. \n",
    "\n",
    "### Key questions prior to computing an MDI strategy\n",
    "\n",
    "1. What is your goal? \n",
    "    1. Estimates of prevalence in each subpopulation.\n",
    "    2. Estimate of overall prevalence.\n",
    "    3. Parameterization of a model.\n",
    "2. What data do you have? \n",
    "    4. Demographic data (% of total population in each subpopulation). \n",
    "    5. A model and next-generation matrix. \n",
    "    6. Estimates of existing prevalence across subpopulations.\n",
    "    \n",
    "Depending on the answers to these questions, MDI makes different recommendations. If there are multiple goals and therefore multiple recommendations, we recommend simply averaging them. "
   ]
  },
  {
   "cell_type": "markdown",
   "metadata": {},
   "source": [
    "# Glossary"
   ]
  },
  {
   "cell_type": "markdown",
   "metadata": {},
   "source": [
    "\\begin{align}\n",
    "    n & &\\text{total number of test kits available}\\\\\n",
    "    n_i & &\\text{recommended number of tests for subpop } i \\\\\n",
    "    \\theta_i & &\\text{estimate of prevalence in subpop } i \\\\\n",
    "    \\theta_i^* & & 1 - \\text{sp} + \\theta_i(\\text{se} + \\text{sp} +1) \\\\\n",
    "    d_i & & \\text{fraction of population in subpop } i \\\\\n",
    "    NGM & & \\text{a model's next-generation matrix}\\\\\n",
    "    x_i & & i^{\\text{th}}\\text{entry of dominant eigenvector of } NGM\n",
    "\\end{align}"
   ]
  },
  {
   "cell_type": "markdown",
   "metadata": {},
   "source": [
    "# MDI Formulas \n",
    "## A. Estimating prevalence in each subpopulation\n",
    "\n",
    "**MDI (no existing seroprevalence estimates)**:\n",
    "$$n_i = \\frac{n}{\\sum_j 1} =\\frac{n}{\\text{# of subpopulations}}$$\n",
    "\n",
    "**MDI (existing seroprevalence estimates)**:\n",
    "$$n_i = n\\frac{\\sqrt{\\theta^*_i(1-\\theta^*_i)}}{\\sum_j \\sqrt{\\theta^*_j(1-\\theta^*_j)}}$$\n",
    "\n",
    "\n",
    "## B. Estimating overall prevalence\n",
    "\n",
    "**MDI (no existing seroprevalence estimates)**:\n",
    "$$n_i = n\\frac{d_i}{\\sum_j d_j} =n d_i$$\n",
    "\n",
    "**MDI (existing seroprevalence estimates)**:\n",
    "$$n_i = n\\frac{d_i \\sqrt{\\theta^*_i(1-\\theta^*_i)}}{\\sum_j d_j \\sqrt{\\theta^*_j(1-\\theta^*_j)}}$$\n",
    "\n",
    "## C. Parameterization of a model\n",
    "\n",
    "**MDI (no existing seroprevalence estimates)**:\n",
    "$$n_i = n\\frac{x_i}{\\sum_j x_j}$$\n",
    "\n",
    "**MDI (existing seroprevalence estimates)**:\n",
    "$$n_i = n\\frac{x_i \\sqrt{\\theta^*_i(1-\\theta^*_i)}}{\\sum_j x_j \\sqrt{\\theta^*_j(1-\\theta^*_j)}}$$"
   ]
  },
  {
   "cell_type": "code",
   "execution_count": 21,
   "metadata": {},
   "outputs": [],
   "source": [
    "# A quick helper to make pretty plots.\n",
    "def plot_helper(ni,ax,color):\n",
    "    # Plot results\n",
    "    x = np.arange(2.5,80,5)\n",
    "    ax.bar(x,ni,\n",
    "          width=3.9,\n",
    "          facecolor=color)\n",
    "    ax.set_xlabel('age')\n",
    "    ax.set_xlim([-1,81])\n",
    "    ax.set_ylim(bottom=0)\n",
    "    ax.set_xticks(np.arange(0,85,5))\n",
    "    # find the values and append to list\n",
    "    totals=[]\n",
    "    for i in ax.patches:\n",
    "        totals.append(i.get_height())\n",
    "    # set individual bar lables using above list\n",
    "    total = sum(totals)\n",
    "    for idx,i in enumerate(ax.patches):\n",
    "        # get_x pulls left or right; get_height pushes up or down\n",
    "        ax.text(x[idx], i.get_height()+3.0, \\\n",
    "                str(int(i.get_height())), fontsize=12,\n",
    "                    color='black',ha='center')\n",
    "    ax.set_ylabel('target samples, $n_i$')\n",
    "    finalize(ax,ignoreLegend=True)"
   ]
  },
  {
   "cell_type": "markdown",
   "metadata": {},
   "source": [
    "# Hypothetical Examples"
   ]
  },
  {
   "cell_type": "markdown",
   "metadata": {},
   "source": [
    "### 1. Ecuador (goal: estimate overall seroprevalence)\n",
    "- Goal: overall seroprevalence\n",
    "- Country: Ecuador\n",
    "- Preliminary estimates of $\\theta_i$: 6\\% in those under 40, 5\\% in those over 40\n",
    "- $n=1500$ tests\n"
   ]
  },
  {
   "cell_type": "code",
   "execution_count": 19,
   "metadata": {},
   "outputs": [
    {
     "data": {
      "image/png": "[encoded data removed]",
      "text/plain": [
       "<Figure size 576x216 with 1 Axes>"
      ]
     },
     "metadata": {
      "needs_background": "light"
     },
     "output_type": "display_data"
    }
   ],
   "source": [
    "n = 1500\n",
    "country = 'Ecuador'\n",
    "age_demographics = get_population_demographics(country) #UN World Population Prospects\n",
    "theta_i = np.array([6,6,6,6,6,6,6,6,5,5,5,5,5,5,5,5,])/100\n",
    "numerator = age_demographics*np.sqrt(theta_i*(1-theta_i))\n",
    "ni = np.round(n* numerator/np.sum(numerator))\n",
    "\n",
    "# Plot results\n",
    "color = np.array([255, 221, 0])/255\n",
    "fig, ax = plt.subplots(nrows=1,ncols=1,figsize=(8,3))\n",
    "plot_helper(ni,ax,color)\n",
    "plt.tight_layout()"
   ]
  },
  {
   "cell_type": "markdown",
   "metadata": {},
   "source": [
    "### 2. Portugal (goal: parameterize a model of the status quo ante contact patterns)\n",
    "- Goal: parameterize a model under _status quo ante_ contact patterns\n",
    "- Country: Portugal\n",
    "- Preliminary estimates of $\\theta_i$: 5\\% in those under 40, 3\\% in those over 40\n",
    "- $n=2500$ tests\n"
   ]
  },
  {
   "cell_type": "code",
   "execution_count": 20,
   "metadata": {},
   "outputs": [
    {
     "data": {
      "image/png": "[encoded data removed]",
      "text/plain": [
       "<Figure size 576x216 with 1 Axes>"
      ]
     },
     "metadata": {
      "needs_background": "light"
     },
     "output_type": "display_data"
    }
   ],
   "source": [
    "n=2500\n",
    "theta_i = np.array([5,5,5,5,5,5,5,5,3,3,3,3,3,3,3,3,])/100\n",
    "# Contact and Demographic Structure (Prem et al, UN WPP)\n",
    "country = 'Portugal'\n",
    "contact_data = load_contact_data() # PREM et al\n",
    "age_demographics = get_population_demographics(country) # UNWPP\n",
    "C = contact_data[country]['all']  \n",
    "# Model parameters (Davies et al)\n",
    "yvec,_ = get_clinical_fraction(1) # DAVIES\n",
    "uvec = np.ones(16)*0.078          # DAVIES\n",
    "f = 0.5    # DAVIES\n",
    "EdS = 7    # DAVIES\n",
    "EdP = 2.4  # BACKER\n",
    "EdC = 3.2  # KUCHARSKI\n",
    "# Next generation matrix\n",
    "N = NGM(C,uvec,yvec,f,EdS,EdP,EdC)\n",
    "# Eigenvector\n",
    "xi = get_evec(N)\n",
    "# Samples\n",
    "numerator = xi*np.sqrt(theta_i*(1-theta_i))\n",
    "ni = np.round(n*numerator/np.sum(numerator))\n",
    "fig, ax = plt.subplots(nrows=1,ncols=1,figsize=(8,3))\n",
    "plot_helper(ni,ax,'#006600')\n",
    "plt.tight_layout()"
   ]
  },
  {
   "cell_type": "markdown",
   "metadata": {},
   "source": [
    "### 3. Argentina (goal: parameterize a model with social distancing)\n",
    "- Goal: parameterize a model witha mixture of home, work, school, and other contact patterns\n",
    "- Country: Argentina\n",
    "- Preliminary estimates of $\\theta_i$: none\n",
    "- $n=8000$ tests\n",
    "\n",
    "Here we use: \n",
    "- $1.5\\ \\times$ home contact\n",
    "- $0\\ \\times$ school contact\n",
    "- $0.75\\ \\times$ work contact\n",
    "- $0.75\\ \\times$ other contact"
   ]
  },
  {
   "cell_type": "code",
   "execution_count": 23,
   "metadata": {},
   "outputs": [
    {
     "data": {
      "image/png": "[encoded data removed]",
      "text/plain": [
       "<Figure size 576x216 with 1 Axes>"
      ]
     },
     "metadata": {
      "needs_background": "light"
     },
     "output_type": "display_data"
    }
   ],
   "source": [
    "n=8000\n",
    "# Contact and Demographic Structure (Prem et al, UN WPP)\n",
    "country = 'Argentina'\n",
    "contact_data = load_contact_data() # PREM et al\n",
    "age_demographics = get_population_demographics(country) # UNWPP\n",
    "home = contact_data[country]['home']\n",
    "school = contact_data[country]['school']\n",
    "other = contact_data[country]['other']\n",
    "work = contact_data[country]['work']\n",
    "C = 1.5*home + 0*school + 0.75*work + 0.75*other\n",
    "# Model parameters (Davies et al)\n",
    "yvec,_ = get_clinical_fraction(1) # DAVIES\n",
    "uvec = np.ones(16)*0.078          # DAVIES\n",
    "f = 0.5    # DAVIES\n",
    "EdS = 7    # DAVIES\n",
    "EdP = 2.4  # BACKER\n",
    "EdC = 3.2  # KUCHARSKI\n",
    "# Next generation matrix\n",
    "N = NGM(C,uvec,yvec,f,EdS,EdP,EdC)\n",
    "# Eigenvector\n",
    "xi = get_evec(N)\n",
    "# Samples\n",
    "numerator = xi\n",
    "ni = np.round(n*numerator/np.sum(numerator))\n",
    "fig, ax = plt.subplots(nrows=1,ncols=1,figsize=(8,3))\n",
    "plot_helper(ni,ax,'#75AADB')\n",
    "plt.tight_layout()"
   ]
  }
 ],
 "metadata": {
  "kernelspec": {
   "display_name": "Python 3",
   "language": "python",
   "name": "python3"
  },
  "language_info": {
   "codemirror_mode": {
    "name": "ipython",
    "version": 3
   },
   "file_extension": ".py",
   "mimetype": "text/x-python",
   "name": "python",
   "nbconvert_exporter": "python",
   "pygments_lexer": "ipython3",
   "version": "3.7.4"
  }
 },
 "nbformat": 4,
 "nbformat_minor": 2
}
